{
 "cells": [
  {
   "cell_type": "code",
   "execution_count": null,
   "metadata": {},
   "outputs": [],
   "source": []
  },
  {
   "cell_type": "code",
   "execution_count": 3,
   "metadata": {},
   "outputs": [],
   "source": [
    "import streamlit as st\n",
    "import os\n",
    "from langchain_groq import ChatGroq\n",
    "from langchain_community.document_loaders import WebBaseLoader\n",
    "\n",
    "# OllamaEmbeddings is a class that wraps the Ollama embeddings model and provides a simple interface to get embeddings for text.\n",
    "from langchain.embeddings import OllamaEmbeddings\n",
    "\n",
    "# RecursiveCharacterTextSplitter is a class that splits text into characters recursively.\n",
    "from langchain.text_splitter import RecursiveCharacterTextSplitter\n",
    "\n",
    "# create_stuff_documents_chain is a function that creates a chain of functions that process documents.\n",
    "from langchain.chains.combine_documents import create_stuff_documents_chain\n",
    "from langchain_core.prompts import ChatPromptTemplate\n",
    "\n",
    "# create_retrieval_chain is a function that creates a chain of functions that retrieve documents.\n",
    "from langchain.chains import create_retrieval_chain\n",
    "\n",
    "# FAISS is a class that act as a vector database. It wraps the FAISS library and provides a simple interface to index and search vectors.\n",
    "from langchain_community.vectorstores import FAISS\n",
    "import time\n",
    "\n",
    "from dotenv import load_dotenv\n"
   ]
  },
  {
   "cell_type": "code",
   "execution_count": 5,
   "metadata": {},
   "outputs": [
    {
     "data": {
      "text/plain": [
       "True"
      ]
     },
     "execution_count": 5,
     "metadata": {},
     "output_type": "execute_result"
    }
   ],
   "source": [
    "load_dotenv()"
   ]
  },
  {
   "cell_type": "code",
   "execution_count": 6,
   "metadata": {},
   "outputs": [],
   "source": [
    "## load the Groq API key\n",
    "groq_api_key = os.environ[\"GROQ_API_KEY\"]"
   ]
  },
  {
   "cell_type": "code",
   "execution_count": 8,
   "metadata": {},
   "outputs": [],
   "source": [
    "# if \"vector\" not in st.session_state:\n",
    "#     st.session_state.embeddings = OllamaEmbeddings()\n",
    "#     st.session_state.loader = WebBaseLoader(\"https://docs.smith.langchain.com/\")\n",
    "#     st.session_state.docs = st.session_state.loader.load()\n",
    "\n",
    "#     st.session_state.text_splitter = RecursiveCharacterTextSplitter(\n",
    "#         chunk_size=1000, chunk_overlap=200\n",
    "#     )\n",
    "#     st.session_state.final_documents = st.session_state.text_splitter.split_documents(\n",
    "#         st.session_state.docs[:2]\n",
    "#     )\n",
    "#     st.session_state.vectors = FAISS.from_documents(\n",
    "#         st.session_state.final_documents, st.session_state.embeddings\n",
    "#     )"
   ]
  },
  {
   "cell_type": "code",
   "execution_count": null,
   "metadata": {},
   "outputs": [],
   "source": []
  },
  {
   "cell_type": "code",
   "execution_count": null,
   "metadata": {},
   "outputs": [],
   "source": []
  },
  {
   "cell_type": "code",
   "execution_count": null,
   "metadata": {},
   "outputs": [],
   "source": []
  },
  {
   "cell_type": "code",
   "execution_count": null,
   "metadata": {},
   "outputs": [],
   "source": []
  },
  {
   "cell_type": "code",
   "execution_count": null,
   "metadata": {},
   "outputs": [],
   "source": []
  }
 ],
 "metadata": {
  "kernelspec": {
   "display_name": "experiments_bot_1",
   "language": "python",
   "name": "python3"
  },
  "language_info": {
   "codemirror_mode": {
    "name": "ipython",
    "version": 3
   },
   "file_extension": ".py",
   "mimetype": "text/x-python",
   "name": "python",
   "nbconvert_exporter": "python",
   "pygments_lexer": "ipython3",
   "version": "3.10.14"
  }
 },
 "nbformat": 4,
 "nbformat_minor": 2
}
